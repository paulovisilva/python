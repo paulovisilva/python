{
 "cells": [
  {
   "cell_type": "code",
   "execution_count": 71,
   "metadata": {},
   "outputs": [],
   "source": [
    "import pandas as pd\n",
    "import numpy as np\n",
    "\n",
    "pd.options.mode.chained_assignment = None\n",
    "\n",
    "df=pd.read_csv(\"ubs.csv\")\n",
    "\n",
    "df.columns=['latitude', 'longitude', 'codigo_municipio', 'codigo_cnes', 'nome_ubs',\n",
    "       'rua', 'bairro', 'cidade', 'telefone',\n",
    "       'rate_estrutura_fisica', 'rate_adapt_deficiente_fisico_idosos',\n",
    "       'rate_equipamentos', 'rate_medicamentos']\n",
    "\n",
    "\n",
    "            \n",
    "df1 = df[['codigo_municipio','codigo_cnes','nome_ubs','rua','bairro','cidade','telefone','latitude','longitude','rate_estrutura_fisica','rate_adapt_deficiente_fisico_idosos','rate_equipamentos', 'rate_medicamentos']]\n",
    "\n",
    "#Desempenho acima da média=1\n",
    "#Desempenho mediano ou  um pouco abaixo da média=3\n",
    "#Desempenho muito acima da média=5\n",
    "\n",
    "\n",
    "#Atribuindo valores de para as avaliações descritivas do dataset\n",
    "df1['rate_estrutura_fisica'].loc[df['rate_estrutura_fisica'] == 'Desempenho acima da média'] = 1\n",
    "df1['rate_estrutura_fisica'].loc[df['rate_estrutura_fisica'] == 'Desempenho mediano ou  um pouco abaixo da média'] = 3\n",
    "df1['rate_estrutura_fisica'].loc[df['rate_estrutura_fisica'] == 'Desempenho muito acima da média'] = 5\n",
    "\n",
    "df1['rate_adapt_deficiente_fisico_idosos'].loc[df['rate_adapt_deficiente_fisico_idosos'] == 'Desempenho acima da média'] = 1\n",
    "df1['rate_adapt_deficiente_fisico_idosos'].loc[df['rate_adapt_deficiente_fisico_idosos'] == 'Desempenho mediano ou  um pouco abaixo da média'] = 3\n",
    "df1['rate_adapt_deficiente_fisico_idosos'].loc[df['rate_adapt_deficiente_fisico_idosos'] == 'Desempenho muito acima da média'] = 5\n",
    "\n",
    "df1['rate_equipamentos'].loc[df['rate_equipamentos'] == 'Desempenho acima da média'] = 1\n",
    "df1['rate_equipamentos'].loc[df['rate_equipamentos'] == 'Desempenho mediano ou  um pouco abaixo da média'] = 3\n",
    "df1['rate_equipamentos'].loc[df['rate_equipamentos'] == 'Desempenho muito acima da média'] = 5\n",
    "\n",
    "df1['rate_medicamentos'].loc[df['rate_medicamentos'] == 'Desempenho acima da média'] = 1\n",
    "df1['rate_medicamentos'].loc[df['rate_medicamentos'] == 'Desempenho mediano ou  um pouco abaixo da média'] = 3\n",
    "df1['rate_medicamentos'].loc[df['rate_medicamentos'] == 'Desempenho muito acima da média'] = 5\n",
    "\n",
    "#Criando uma nota geral, calculando os valores atribuidos e dividingo pela quantidade de caracteristicas avaliadas\n",
    "df1['ubs_nota_geral']=df1['rate_estrutura_fisica']+df1['rate_adapt_deficiente_fisico_idosos']+df1['rate_equipamentos']+df1['rate_medicamentos']/4\n",
    "\n",
    "df1.sort_values([\"ubs_nota_geral\"], axis=0, \n",
    "                 ascending=False, inplace=True)\n",
    "\n",
    "df1.to_csv(\"./ubs_tratado.csv\")\n",
    "\n",
    "\n",
    "\n",
    "\n",
    "\n",
    "            \n",
    "            "
   ]
  },
  {
   "cell_type": "code",
   "execution_count": null,
   "metadata": {},
   "outputs": [],
   "source": []
  }
 ],
 "metadata": {
  "kernelspec": {
   "display_name": "Python 3",
   "language": "python",
   "name": "python3"
  },
  "language_info": {
   "codemirror_mode": {
    "name": "ipython",
    "version": 3
   },
   "file_extension": ".py",
   "mimetype": "text/x-python",
   "name": "python",
   "nbconvert_exporter": "python",
   "pygments_lexer": "ipython3",
   "version": "3.7.0"
  }
 },
 "nbformat": 4,
 "nbformat_minor": 2
}
